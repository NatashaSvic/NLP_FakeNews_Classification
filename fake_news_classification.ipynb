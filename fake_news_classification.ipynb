{
 "cells": [
  {
   "cell_type": "markdown",
   "metadata": {},
   "source": [
    "# Fake News Classification\n",
    "## _NLP IE HST - Master in Big Data and Business Analytics_ \n",
    "### Authors: Bruno Cervantes, Natasha Savic\n",
    "\n",
    "This notebook will predict fake news comparing different algorithms. The training dataset contains 3999 articles which have been labeled as fake/real news. The algorithms will be trained on the full training set and final predictions will be made on the test dataset for which no labels are available. \n",
    "\n",
    "The best score obtained in the pre-training was 0.9383 using Naive Bayes classifier."
   ]
  },
  {
   "cell_type": "code",
   "execution_count": 4,
   "metadata": {},
   "outputs": [],
   "source": [
    "#surpress warnings\n",
    "import warnings\n",
    "warnings.simplefilter(\"ignore\")"
   ]
  },
  {
   "cell_type": "code",
   "execution_count": 5,
   "metadata": {
    "collapsed": true
   },
   "outputs": [],
   "source": [
    "#Importing libraries:\n",
    "%matplotlib inline\n",
    "import nltk\n",
    "from sklearn import metrics\n",
    "import pandas as pd\n",
    "import numpy as np \n",
    "import matplotlib as mpl\n",
    "import matplotlib.pyplot as plt\n",
    "from collections import Counter\n",
    "from subprocess import check_output\n",
    "from wordcloud import WordCloud, STOPWORDS\n",
    "from sklearn.cluster import KMeans\n",
    "from sklearn.feature_extraction.text import TfidfVectorizer\n",
    "from sklearn.model_selection import train_test_split\n",
    "from sklearn.feature_extraction.text import CountVectorizer\n",
    "from sklearn.feature_extraction.text import TfidfTransformer\n",
    "from sklearn.naive_bayes import MultinomialNB\n",
    "from sklearn.model_selection import GridSearchCV\n",
    "from sklearn.pipeline import Pipeline\n",
    "from nltk.stem import PorterStemmer\n",
    "from nltk.corpus import stopwords"
   ]
  },
  {
   "cell_type": "code",
   "execution_count": 6,
   "metadata": {
    "collapsed": true,
    "scrolled": true
   },
   "outputs": [],
   "source": [
    "#Loading the data set - training data.\n",
    "training_set = pd.read_csv(\"fake_or_real_news_training.csv\", sep=',')"
   ]
  },
  {
   "cell_type": "code",
   "execution_count": 7,
   "metadata": {},
   "outputs": [
    {
     "data": {
      "text/html": [
       "<div>\n",
       "<style scoped>\n",
       "    .dataframe tbody tr th:only-of-type {\n",
       "        vertical-align: middle;\n",
       "    }\n",
       "\n",
       "    .dataframe tbody tr th {\n",
       "        vertical-align: top;\n",
       "    }\n",
       "\n",
       "    .dataframe thead th {\n",
       "        text-align: right;\n",
       "    }\n",
       "</style>\n",
       "<table border=\"1\" class=\"dataframe\">\n",
       "  <thead>\n",
       "    <tr style=\"text-align: right;\">\n",
       "      <th></th>\n",
       "      <th>ID</th>\n",
       "      <th>title</th>\n",
       "      <th>text</th>\n",
       "      <th>label</th>\n",
       "      <th>X1</th>\n",
       "      <th>X2</th>\n",
       "    </tr>\n",
       "  </thead>\n",
       "  <tbody>\n",
       "    <tr>\n",
       "      <th>0</th>\n",
       "      <td>8476</td>\n",
       "      <td>You Can Smell Hillary’s Fear</td>\n",
       "      <td>Daniel Greenfield, a Shillman Journalism Fello...</td>\n",
       "      <td>FAKE</td>\n",
       "      <td>NaN</td>\n",
       "      <td>NaN</td>\n",
       "    </tr>\n",
       "    <tr>\n",
       "      <th>1</th>\n",
       "      <td>10294</td>\n",
       "      <td>Watch The Exact Moment Paul Ryan Committed Pol...</td>\n",
       "      <td>Google Pinterest Digg Linkedin Reddit Stumbleu...</td>\n",
       "      <td>FAKE</td>\n",
       "      <td>NaN</td>\n",
       "      <td>NaN</td>\n",
       "    </tr>\n",
       "    <tr>\n",
       "      <th>2</th>\n",
       "      <td>3608</td>\n",
       "      <td>Kerry to go to Paris in gesture of sympathy</td>\n",
       "      <td>U.S. Secretary of State John F. Kerry said Mon...</td>\n",
       "      <td>REAL</td>\n",
       "      <td>NaN</td>\n",
       "      <td>NaN</td>\n",
       "    </tr>\n",
       "    <tr>\n",
       "      <th>3</th>\n",
       "      <td>10142</td>\n",
       "      <td>Bernie supporters on Twitter erupt in anger ag...</td>\n",
       "      <td>— Kaydee King (@KaydeeKing) November 9, 2016 T...</td>\n",
       "      <td>FAKE</td>\n",
       "      <td>NaN</td>\n",
       "      <td>NaN</td>\n",
       "    </tr>\n",
       "    <tr>\n",
       "      <th>4</th>\n",
       "      <td>875</td>\n",
       "      <td>The Battle of New York: Why This Primary Matters</td>\n",
       "      <td>It's primary day in New York and front-runners...</td>\n",
       "      <td>REAL</td>\n",
       "      <td>NaN</td>\n",
       "      <td>NaN</td>\n",
       "    </tr>\n",
       "  </tbody>\n",
       "</table>\n",
       "</div>"
      ],
      "text/plain": [
       "      ID                                              title  \\\n",
       "0   8476                       You Can Smell Hillary’s Fear   \n",
       "1  10294  Watch The Exact Moment Paul Ryan Committed Pol...   \n",
       "2   3608        Kerry to go to Paris in gesture of sympathy   \n",
       "3  10142  Bernie supporters on Twitter erupt in anger ag...   \n",
       "4    875   The Battle of New York: Why This Primary Matters   \n",
       "\n",
       "                                                text label   X1   X2  \n",
       "0  Daniel Greenfield, a Shillman Journalism Fello...  FAKE  NaN  NaN  \n",
       "1  Google Pinterest Digg Linkedin Reddit Stumbleu...  FAKE  NaN  NaN  \n",
       "2  U.S. Secretary of State John F. Kerry said Mon...  REAL  NaN  NaN  \n",
       "3  — Kaydee King (@KaydeeKing) November 9, 2016 T...  FAKE  NaN  NaN  \n",
       "4  It's primary day in New York and front-runners...  REAL  NaN  NaN  "
      ]
     },
     "execution_count": 7,
     "metadata": {},
     "output_type": "execute_result"
    }
   ],
   "source": [
    "training_set.head()"
   ]
  },
  {
   "cell_type": "code",
   "execution_count": 8,
   "metadata": {
    "scrolled": true
   },
   "outputs": [
    {
     "name": "stdout",
     "output_type": "stream",
     "text": [
      "<class 'pandas.core.frame.DataFrame'>\n",
      "RangeIndex: 3999 entries, 0 to 3998\n",
      "Data columns (total 6 columns):\n",
      "ID       3999 non-null int64\n",
      "title    3999 non-null object\n",
      "text     3999 non-null object\n",
      "label    3999 non-null object\n",
      "X1       33 non-null object\n",
      "X2       2 non-null object\n",
      "dtypes: int64(1), object(5)\n",
      "memory usage: 187.5+ KB\n"
     ]
    }
   ],
   "source": [
    "training_set.info()\n",
    "## We choose to remove both X1 and X2 given the little info they carry. and we need to clean label dropping rows without REAL or FAKE"
   ]
  },
  {
   "cell_type": "markdown",
   "metadata": {},
   "source": [
    "## Data Preprocessing\n",
    "\n",
    "After reading the data we will do some preprocessing. By calling the .info() function, we identified that the columns X1 and X2 are usually null except for few rows. After a manual check, it is evident that some labels and text got mixed up in the respective columns.  We will undo this and locate the right information to the right feature and then drop X1 and X2. The reason we chose to drop those columns is that they contain no information and not present in the test dataset."
   ]
  },
  {
   "cell_type": "code",
   "execution_count": 9,
   "metadata": {},
   "outputs": [
    {
     "data": {
      "text/plain": [
       "Int64Index([ 192,  308,  382,  660,  889,  911, 1010, 1043, 1218, 1438, 1493,\n",
       "            1591, 1630, 1716, 1900, 1968, 2176, 2493, 2549, 2880, 2920, 3010,\n",
       "            3069, 3110, 3130, 3210, 3372, 3478, 3578, 3649, 3706],\n",
       "           dtype='int64')"
      ]
     },
     "execution_count": 9,
     "metadata": {},
     "output_type": "execute_result"
    }
   ],
   "source": [
    "#Check X1 and X2 and identify which are wrong and get indices\n",
    "training_set[(training_set.X1.isnull()!=True & (training_set.X2.isnull()==True))].index"
   ]
  },
  {
   "cell_type": "code",
   "execution_count": 10,
   "metadata": {
    "collapsed": true
   },
   "outputs": [],
   "source": [
    "#Misplaced labels #X1\n",
    "indices = (192,  308,  382,  660,  889,  911, 1010, 1043, 1218, 1438, 1493,\n",
    "            1591, 1630, 1716, 1900, 1968, 2176, 2493, 2549, 2880, 2920, 3010,\n",
    "            3069, 3110, 3130, 3210, 3372, 3478, 3578, 3649, 3706)\n",
    "for i in indices :\n",
    "    training_set.iloc[i, 2] = training_set.iloc[i, 3]\n",
    "    training_set.iloc[i, 3] = training_set.iloc[i, 4]"
   ]
  },
  {
   "cell_type": "code",
   "execution_count": 11,
   "metadata": {},
   "outputs": [
    {
     "data": {
      "text/plain": [
       "Int64Index([2184, 3537], dtype='int64')"
      ]
     },
     "execution_count": 11,
     "metadata": {},
     "output_type": "execute_result"
    }
   ],
   "source": [
    "training_set[training_set.X2.isnull()!=True].index"
   ]
  },
  {
   "cell_type": "code",
   "execution_count": 13,
   "metadata": {
    "collapsed": true
   },
   "outputs": [],
   "source": [
    "#Misplaced labels #X2\n",
    "indices = (2184, 3537)\n",
    "for i in indices :\n",
    "    training_set.iloc[i, 2] = training_set.iloc[i, 4]\n",
    "    training_set.iloc[i, 3] = training_set.iloc[i, 5]"
   ]
  },
  {
   "cell_type": "code",
   "execution_count": 14,
   "metadata": {
    "collapsed": true
   },
   "outputs": [],
   "source": [
    "#dropping the columns\n",
    "training_set = training_set.drop(\"X1\", axis=1)\n",
    "training_set = training_set.drop(\"X2\", axis=1)"
   ]
  },
  {
   "cell_type": "code",
   "execution_count": 15,
   "metadata": {
    "collapsed": true
   },
   "outputs": [],
   "source": [
    "#Final cleanup columns\n",
    "training_set = training_set[(training_set.label == 'FAKE') | (training_set.label == 'REAL')]"
   ]
  },
  {
   "cell_type": "code",
   "execution_count": 16,
   "metadata": {},
   "outputs": [
    {
     "data": {
      "text/plain": [
       "<matplotlib.axes._subplots.AxesSubplot at 0x10be7f4a8>"
      ]
     },
     "execution_count": 16,
     "metadata": {},
     "output_type": "execute_result"
    },
    {
     "data": {
      "image/png": "[encoded data removed]",
      "text/plain": [
       "<matplotlib.figure.Figure at 0x10be7ff60>"
      ]
     },
     "metadata": {},
     "output_type": "display_data"
    }
   ],
   "source": [
    "#Check class balance\n",
    "training_set['label'].value_counts().plot(kind='bar', title=\"Distribution of Target Variable\", figsize=(6,6))"
   ]
  },
  {
   "cell_type": "markdown",
   "metadata": {},
   "source": [
    "### Concatination and Preparation\n",
    "\n",
    "Now that we cleaned the data, it needs to be wrangled to be fed into the models. First, we will concatenate the text and title columns so we end up with one text column only. Next, we will binarize the target variable that distinguishes between non-fake and fake news and recodes them into 0 and 1. Before performing the text train split, we will apply stemming in order to normalise the word stems. \n",
    "\n",
    "_P.s. we tried some cleaning like e.g. removing punctuation and special characters but it gave us worse results. Our assumption is that bad grammar and unusual characters might serve as attributes that help to identify fake news._"
   ]
  },
  {
   "cell_type": "code",
   "execution_count": 19,
   "metadata": {
    "collapsed": true
   },
   "outputs": [],
   "source": [
    "#separating training set into the labels and the data\n",
    "training_set_labels = training_set.label \n",
    "training_set_data = training_set.drop(\"label\", axis = 1)\n",
    "training_set_data = training_set_data.drop(\"ID\", axis = 1)"
   ]
  },
  {
   "cell_type": "code",
   "execution_count": 20,
   "metadata": {
    "collapsed": true
   },
   "outputs": [],
   "source": [
    "#time to merge the title and the text into a single variable: no point in having 2 variables.\n",
    "training_set_data[\"full_text\"] = training_set_data[\"title\"].map(str) + \" \" + training_set_data[\"text\"]\n",
    "training_data = training_set_data[\"full_text\"]"
   ]
  },
  {
   "cell_type": "code",
   "execution_count": 22,
   "metadata": {},
   "outputs": [
    {
     "data": {
      "text/plain": [
       "Text(0.5,1,'Title')"
      ]
     },
     "execution_count": 22,
     "metadata": {},
     "output_type": "execute_result"
    },
    {
     "data": {
      "image/png": "[encoded data removed]",
      "text/plain": [
       "<matplotlib.figure.Figure at 0x10cb32c88>"
      ]
     },
     "metadata": {},
     "output_type": "display_data"
    }
   ],
   "source": [
    "#Get an idea about what words are contained\n",
    "stopwords = set(STOPWORDS)\n",
    "wordcloud = WordCloud(\n",
    "                          background_color='white',\n",
    "                          stopwords=stopwords,\n",
    "                          max_words=150,\n",
    "                          max_font_size=50, \n",
    "                          random_state=42\n",
    "                         ).generate(str(training_data))\n",
    "plt.imshow(wordcloud)\n",
    "plt.rcParams[\"figure.figsize\"] = (16,17)\n",
    "plt.axis('off')\n",
    "plt.title(\"Title\")"
   ]
  },
  {
   "cell_type": "code",
   "execution_count": 23,
   "metadata": {
    "collapsed": true,
    "scrolled": true
   },
   "outputs": [],
   "source": [
    "#turned the labels into list for ease of life\n",
    "training_labels = training_set_labels.tolist()"
   ]
  },
  {
   "cell_type": "code",
   "execution_count": 24,
   "metadata": {
    "collapsed": true
   },
   "outputs": [],
   "source": [
    "labels = [1 if x =='FAKE' else 0 for x in training_labels]"
   ]
  },
  {
   "cell_type": "code",
   "execution_count": 25,
   "metadata": {},
   "outputs": [],
   "source": [
    "#normalise tokens\n",
    "from nltk.stem import PorterStemmer\n",
    "from nltk.corpus import stopwords\n",
    "stop_list = stopwords.words('english')\n",
    "stemmer = PorterStemmer()\n",
    "all_tokens_lower = [t.lower() for t in training_data]\n",
    "tokens_normalised = [stemmer.stem(t) for t in all_tokens_lower\n",
    "                                     if t not in stop_list]"
   ]
  },
  {
   "cell_type": "code",
   "execution_count": 26,
   "metadata": {
    "collapsed": true
   },
   "outputs": [],
   "source": [
    "# Create training and test set\n",
    "X_train, X_test, y_train, y_test = train_test_split(tokens_normalised, labels,test_size = .3, random_state = 42 )"
   ]
  },
  {
   "cell_type": "code",
   "execution_count": 27,
   "metadata": {
    "collapsed": true
   },
   "outputs": [],
   "source": [
    "#transformed the data lists into array so that the model works\n",
    "X_train = np.asarray(X_train)\n",
    "y_train = np.asarray(y_train)\n",
    "X_test = np.asarray(X_test)\n",
    "y_test = np.asarray(y_test)"
   ]
  },
  {
   "cell_type": "markdown",
   "metadata": {},
   "source": [
    "## Modeling\n",
    "\n",
    "Let's jump to the most interesting part, the modelling. No specific methodology has been pursued but we tried to test many different classifiers and compared the results. Those are the algorithms we applied:\n",
    "- Naive Bayes\n",
    "- SVM\n",
    "- KNN\n",
    "- Passive Aggressive\n",
    "- LSTM ANN"
   ]
  },
  {
   "cell_type": "markdown",
   "metadata": {},
   "source": [
    "### Naive Bayes"
   ]
  },
  {
   "cell_type": "code",
   "execution_count": 28,
   "metadata": {},
   "outputs": [],
   "source": [
    "#created a pipeline $ parameters to optimise:\n",
    "text_clf = Pipeline([('vect', CountVectorizer(stop_words = \"english\")), ('tfidf', TfidfTransformer()), ('clf', MultinomialNB())])\n",
    "parameters = {'vect__ngram_range': [(1, 1), (1, 2), (1, 3)], #test up to 3 n-grams\n",
    "              'tfidf__use_idf': (True, False), \n",
    "              'tfidf__norm': ('l1', 'l2'), \n",
    "              'tfidf__sublinear_tf': (True, False), \n",
    "              'clf__alpha': (1e-2, 1e-3), \n",
    "              'clf__fit_prior':(True, False) }"
   ]
  },
  {
   "cell_type": "code",
   "execution_count": 29,
   "metadata": {
    "collapsed": true
   },
   "outputs": [],
   "source": [
    "#create gridsearch using our pipeline as the base function with the parameters created, using ful multicore and cv=5\n",
    "gs_clf = GridSearchCV(text_clf, parameters, n_jobs=-1, cv=5)"
   ]
  },
  {
   "cell_type": "code",
   "execution_count": 30,
   "metadata": {
    "collapsed": true
   },
   "outputs": [],
   "source": [
    "model = gs_clf.fit(X_train, y_train)"
   ]
  },
  {
   "cell_type": "code",
   "execution_count": 31,
   "metadata": {},
   "outputs": [
    {
     "data": {
      "text/plain": [
       "{'clf__alpha': 0.001,\n",
       " 'clf__fit_prior': True,\n",
       " 'tfidf__norm': 'l1',\n",
       " 'tfidf__sublinear_tf': True,\n",
       " 'tfidf__use_idf': True,\n",
       " 'vect__ngram_range': (1, 3)}"
      ]
     },
     "execution_count": 31,
     "metadata": {},
     "output_type": "execute_result"
    }
   ],
   "source": [
    "model.best_params_"
   ]
  },
  {
   "cell_type": "code",
   "execution_count": 32,
   "metadata": {
    "collapsed": true
   },
   "outputs": [],
   "source": [
    "predicted = model.predict(X_test)"
   ]
  },
  {
   "cell_type": "code",
   "execution_count": 33,
   "metadata": {},
   "outputs": [
    {
     "data": {
      "text/plain": [
       "0.9383333333333334"
      ]
     },
     "execution_count": 33,
     "metadata": {},
     "output_type": "execute_result"
    }
   ],
   "source": [
    "np.mean(predicted == y_test)"
   ]
  },
  {
   "cell_type": "markdown",
   "metadata": {},
   "source": [
    "### SVM"
   ]
  },
  {
   "cell_type": "code",
   "execution_count": 64,
   "metadata": {
    "collapsed": true
   },
   "outputs": [],
   "source": [
    "#SVM Classifier\n",
    "from sklearn.linear_model import SGDClassifier\n",
    "from sklearn.model_selection import GridSearchCV\n",
    "text_clf_svm = Pipeline([('vect', CountVectorizer(stop_words = \"english\")), \n",
    "                         ('tfidf', TfidfTransformer()), \n",
    "                         ('clf-svm', SGDClassifier(loss='hinge', \n",
    "                                                   penalty='l2', \n",
    "                                                   alpha=1e-3,\n",
    "                                                   max_iter=200, \n",
    "                                                   random_state=42))])\n",
    "parameters_svm = {'vect__ngram_range': [(1, 1), (1, 2), (1, 3)],\n",
    "              'tfidf__use_idf': (True, False),\n",
    "              'tfidf__norm': ('l1', 'l2'),\n",
    "              'tfidf__sublinear_tf': (True, False),\n",
    "              'clf-svm__alpha': (1e-2, 1e-3)}"
   ]
  },
  {
   "cell_type": "code",
   "execution_count": 65,
   "metadata": {},
   "outputs": [],
   "source": [
    "#Gridsearch\n",
    "gs_clf_svm = GridSearchCV(text_clf_svm, parameters_svm, n_jobs=-1, cv=5)\n",
    "gs_clf_svm = gs_clf_svm.fit(X_train, y_train)\n",
    "#gs_clf_svm.best_score_\n",
    "#gs_clf_svm.best_params_"
   ]
  },
  {
   "cell_type": "code",
   "execution_count": 67,
   "metadata": {},
   "outputs": [
    {
     "data": {
      "text/plain": [
       "{'clf-svm__alpha': 0.001,\n",
       " 'tfidf__norm': 'l2',\n",
       " 'tfidf__sublinear_tf': True,\n",
       " 'tfidf__use_idf': False,\n",
       " 'vect__ngram_range': (1, 1)}"
      ]
     },
     "execution_count": 67,
     "metadata": {},
     "output_type": "execute_result"
    }
   ],
   "source": [
    "gs_clf_svm.best_params_"
   ]
  },
  {
   "cell_type": "code",
   "execution_count": 66,
   "metadata": {
    "collapsed": true
   },
   "outputs": [],
   "source": [
    "predicted_svm = gs_clf_svm.predict(X_test)"
   ]
  },
  {
   "cell_type": "code",
   "execution_count": 68,
   "metadata": {},
   "outputs": [
    {
     "data": {
      "text/plain": [
       "0.8583333333333333"
      ]
     },
     "execution_count": 68,
     "metadata": {},
     "output_type": "execute_result"
    }
   ],
   "source": [
    "np.mean(predicted_svm == y_test)"
   ]
  },
  {
   "cell_type": "code",
   "execution_count": null,
   "metadata": {
    "collapsed": true
   },
   "outputs": [],
   "source": [
    "#Check cross val scores\n",
    "\n",
    "#from sklearn import metrics\n",
    "#from sklearn.model_selection import cross_val_score\n",
    "#cross_val_score(gs_clf_svm, X_train, y_train, cv=5)"
   ]
  },
  {
   "cell_type": "markdown",
   "metadata": {},
   "source": [
    "### KNN"
   ]
  },
  {
   "cell_type": "code",
   "execution_count": 209,
   "metadata": {
    "collapsed": true
   },
   "outputs": [],
   "source": [
    "import sklearn.neighbors\n",
    "\n",
    "# build classifier\n",
    "n_neighbors = 3\n",
    "weights = 'uniform'\n",
    "weights = 'distance'\n",
    "clf_knn = sklearn.neighbors.KNeighborsClassifier(n_neighbors, weights=weights)"
   ]
  },
  {
   "cell_type": "code",
   "execution_count": 210,
   "metadata": {
    "collapsed": true
   },
   "outputs": [],
   "source": [
    "#x_train = X_train.reshape(-1, 1)\n",
    "\n",
    "text_clf_knn = Pipeline([('vect', CountVectorizer(stop_words = \"english\")), \n",
    "                         ('tfidf', TfidfTransformer()), \n",
    "                         ('clf-knn', clf_knn)])\n",
    "gs_clf_knn = text_clf_knn.fit(X_train, y_train)"
   ]
  },
  {
   "cell_type": "code",
   "execution_count": 211,
   "metadata": {
    "collapsed": true
   },
   "outputs": [],
   "source": [
    "predicted_knn = gs_clf_knn.predict(X_test)"
   ]
  },
  {
   "cell_type": "code",
   "execution_count": 212,
   "metadata": {},
   "outputs": [
    {
     "data": {
      "text/plain": [
       "0.8525"
      ]
     },
     "execution_count": 212,
     "metadata": {},
     "output_type": "execute_result"
    }
   ],
   "source": [
    "np.mean(predicted_knn == y_test)"
   ]
  },
  {
   "cell_type": "markdown",
   "metadata": {},
   "source": [
    "### Passive Aggressive"
   ]
  },
  {
   "cell_type": "code",
   "execution_count": 34,
   "metadata": {
    "collapsed": true
   },
   "outputs": [],
   "source": [
    "from sklearn.linear_model import PassiveAggressiveClassifier\n",
    "from sklearn.datasets import make_classification\n",
    "\n",
    "text_clf_PA = Pipeline([('vect', CountVectorizer(stop_words = \"english\")), ('tfidf', TfidfTransformer()), ('clf_PA', PassiveAggressiveClassifier(random_state=0))])\n",
    "parameters = {'vect__ngram_range': [(1, 1), (1, 2), (1, 3)],\n",
    "              'tfidf__use_idf': (True, False),\n",
    "              'tfidf__norm': ('l1', 'l2'),\n",
    "              'tfidf__sublinear_tf': (True, False),\n",
    "              'clf_PA__alpha': (1e-2, 1e-3),\n",
    "              'clf_PA__fit_prior':(True, False)}"
   ]
  },
  {
   "cell_type": "code",
   "execution_count": 35,
   "metadata": {},
   "outputs": [
    {
     "data": {
      "text/plain": [
       "Pipeline(memory=None,\n",
       "     steps=[('vect', CountVectorizer(analyzer='word', binary=False, decode_error='strict',\n",
       "        dtype=<class 'numpy.int64'>, encoding='utf-8', input='content',\n",
       "        lowercase=True, max_df=1.0, max_features=None, min_df=1,\n",
       "        ngram_range=(1, 1), preprocessor=None, stop_words='english',\n",
       "        ...      n_jobs=1, random_state=0, shuffle=True, tol=None, verbose=0,\n",
       "              warm_start=False))])"
      ]
     },
     "execution_count": 35,
     "metadata": {},
     "output_type": "execute_result"
    }
   ],
   "source": [
    "#clf_PA = GridSearchCV(text_clf_PA, parameters, n_jobs=-1, cv=5)\n",
    "text_clf_PA.fit(X_train, y_train)"
   ]
  },
  {
   "cell_type": "code",
   "execution_count": 36,
   "metadata": {
    "collapsed": true
   },
   "outputs": [],
   "source": [
    "predicted_PA = text_clf_PA.predict(X_test)"
   ]
  },
  {
   "cell_type": "code",
   "execution_count": 37,
   "metadata": {},
   "outputs": [
    {
     "data": {
      "text/plain": [
       "0.9216666666666666"
      ]
     },
     "execution_count": 37,
     "metadata": {},
     "output_type": "execute_result"
    }
   ],
   "source": [
    "np.mean(predicted_PA  == y_test)"
   ]
  },
  {
   "cell_type": "markdown",
   "metadata": {},
   "source": [
    "## Neural Network\n",
    "\n",
    "In this part we will apply a LSTM neural network. The reason a LSTM has been chosen is that it is commonly used in text classification and yielded the best results. We tested different parameters and dropouts and below is the best result we obtained. Interestingly, Naive Bayes outperformed a LSTM Neural Network. One reason could be the fact that NN performs better on bigger datasets.\n",
    "\n",
    "### LSTM"
   ]
  },
  {
   "cell_type": "code",
   "execution_count": 38,
   "metadata": {
    "collapsed": true
   },
   "outputs": [
    {
     "name": "stderr",
     "output_type": "stream",
     "text": [
      "Using TensorFlow backend.\n"
     ]
    }
   ],
   "source": [
    "# import keras wrapper \n",
    "from keras.models import Sequential\n",
    "from keras.layers import Dense\n",
    "from keras.layers import LSTM\n",
    "from keras.layers import Dropout\n",
    "from keras.layers.embeddings import Embedding\n",
    "from keras.preprocessing import sequence\n",
    "from keras.preprocessing.text import Tokenizer\n",
    "from keras.preprocessing.sequence import pad_sequences"
   ]
  },
  {
   "cell_type": "markdown",
   "metadata": {},
   "source": [
    "### Data Preprocessing"
   ]
  },
  {
   "cell_type": "code",
   "execution_count": 39,
   "metadata": {
    "collapsed": true
   },
   "outputs": [],
   "source": [
    "#Tokenize - got an error when trying to tokenize directly \n",
    "text = training_set['text'].str.split()\n",
    "title = training_set['title'].str.split()\n",
    "\n",
    "#Merge title and text into one df\n",
    "df = text.map(str) + \" \" + title.map(str)\n",
    "\n",
    "#turn labels into series as keras works with series\n",
    "Y = pd.Series(labels)"
   ]
  },
  {
   "cell_type": "code",
   "execution_count": 40,
   "metadata": {
    "collapsed": true
   },
   "outputs": [],
   "source": [
    "#Use Keras function to turn text into array\n",
    "tokenizer = Tokenizer(nb_words=2500, lower=False,split=' ')\n",
    "tokenizer.fit_on_texts(df.values)\n",
    "X = tokenizer.texts_to_sequences(df.values)\n",
    "X = pad_sequences(X)"
   ]
  },
  {
   "cell_type": "code",
   "execution_count": 41,
   "metadata": {
    "collapsed": true
   },
   "outputs": [],
   "source": [
    "#Test train split - to avoid confusion we capitalised the last letter for the new train-test split variables\n",
    "X_traiN, X_tesT, y_traiN, y_tesT = train_test_split(X, Y ,test_size = .1, random_state = 42 )"
   ]
  },
  {
   "cell_type": "markdown",
   "metadata": {},
   "source": [
    "### LSTM Model"
   ]
  },
  {
   "cell_type": "code",
   "execution_count": 49,
   "metadata": {},
   "outputs": [
    {
     "name": "stdout",
     "output_type": "stream",
     "text": [
      "_________________________________________________________________\n",
      "Layer (type)                 Output Shape              Param #   \n",
      "=================================================================\n",
      "embedding_4 (Embedding)      (None, 500, 32)           1120000   \n",
      "_________________________________________________________________\n",
      "lstm_4 (LSTM)                (None, 100)               53200     \n",
      "_________________________________________________________________\n",
      "dropout_4 (Dropout)          (None, 100)               0         \n",
      "_________________________________________________________________\n",
      "dense_4 (Dense)              (None, 1)                 101       \n",
      "=================================================================\n",
      "Total params: 1,173,301\n",
      "Trainable params: 1,173,301\n",
      "Non-trainable params: 0\n",
      "_________________________________________________________________\n",
      "None\n",
      "Train on 3599 samples, validate on 400 samples\n",
      "Epoch 1/3\n",
      "3599/3599 [==============================] - 26s 7ms/step - loss: 0.6439 - acc: 0.6363 - val_loss: 0.5542 - val_acc: 0.7675\n",
      "Epoch 2/3\n",
      "3599/3599 [==============================] - 27s 8ms/step - loss: 0.3630 - acc: 0.8541 - val_loss: 0.3830 - val_acc: 0.8275\n",
      "Epoch 3/3\n",
      "3599/3599 [==============================] - 26s 7ms/step - loss: 0.2291 - acc: 0.9130 - val_loss: 0.3356 - val_acc: 0.8500\n"
     ]
    },
    {
     "data": {
      "text/plain": [
       "<keras.callbacks.History at 0x17fbfb7b8>"
      ]
     },
     "execution_count": 49,
     "metadata": {},
     "output_type": "execute_result"
    }
   ],
   "source": [
    "top_words = 35000\n",
    "max_length = 500\n",
    "X_traiN = sequence.pad_sequences(X_traiN, maxlen=max_length)\n",
    "X_tesT = sequence.pad_sequences(X_tesT, maxlen=max_length)\n",
    "# create the model\n",
    "embedding_vecor_length = 32\n",
    "model = Sequential()\n",
    "model.add(Embedding(top_words, embedding_vecor_length, input_length=max_length))\n",
    "model.add(LSTM(100))\n",
    "model.add(Dropout(0.2))\n",
    "model.add(Dense(1, activation='sigmoid')) #sigmoid as we have a binary classification problem\n",
    "model.compile(loss='binary_crossentropy', optimizer='adam', metrics=['accuracy'])\n",
    "print(model.summary())\n",
    "model.fit(X_traiN, y_traiN, validation_data=(X_tesT, y_tesT), epochs=3, batch_size=64)"
   ]
  },
  {
   "cell_type": "code",
   "execution_count": 50,
   "metadata": {},
   "outputs": [
    {
     "name": "stdout",
     "output_type": "stream",
     "text": [
      "Accuracy: 85.00%\n"
     ]
    }
   ],
   "source": [
    "# Final evaluation of the model\n",
    "scores = model.evaluate(X_tesT, y_tesT, verbose=0)\n",
    "print(\"Accuracy: %.2f%%\" % (scores[1]*100))"
   ]
  },
  {
   "cell_type": "markdown",
   "metadata": {},
   "source": [
    "# Final Predictions\n",
    "\n",
    "Final predictions are made on the entire training dataset and the final submission will be stored as \"predictions.csv\"."
   ]
  },
  {
   "cell_type": "code",
   "execution_count": 72,
   "metadata": {
    "collapsed": true
   },
   "outputs": [],
   "source": [
    "testing_set = pd.read_csv(\"fake_or_real_news_test.csv\", sep=',')"
   ]
  },
  {
   "cell_type": "code",
   "execution_count": 71,
   "metadata": {
    "collapsed": true
   },
   "outputs": [],
   "source": [
    "testing_set_data = testing_set.drop(\"ID\", axis = 1)"
   ]
  },
  {
   "cell_type": "code",
   "execution_count": 83,
   "metadata": {},
   "outputs": [],
   "source": [
    "testing_set_data[\"full_text\"] = testing_set_data[\"title\"].map(str) + \" \" + testing_set_data[\"text\"]\n",
    "test_data = testing_set_data[\"full_text\"]"
   ]
  },
  {
   "cell_type": "code",
   "execution_count": 84,
   "metadata": {},
   "outputs": [
    {
     "data": {
      "text/plain": [
       "0    September New Homes Sales Rise——-Back To 1992 ...\n",
       "1    Why The Obamacare Doomsday Cult Can't Admit It...\n",
       "2    Sanders, Cruz resist pressure after NY losses,...\n",
       "3    Surviving escaped prisoner likely fatigued and...\n",
       "4    Clinton and Sanders neck and neck in Californi...\n",
       "Name: full_text, dtype: object"
      ]
     },
     "execution_count": 84,
     "metadata": {},
     "output_type": "execute_result"
    }
   ],
   "source": [
    "test_data.head()"
   ]
  },
  {
   "cell_type": "code",
   "execution_count": 85,
   "metadata": {
    "collapsed": true
   },
   "outputs": [],
   "source": [
    "stop_list = stopwords.words('english')\n",
    "stemmer = PorterStemmer()\n",
    "all_tokens_lower = [t.lower() for t in test_data]\n",
    "tokens_normalised1 = [stemmer.stem(t) for t in all_tokens_lower\n",
    "                                     if t not in stop_list]"
   ]
  },
  {
   "cell_type": "code",
   "execution_count": 88,
   "metadata": {
    "collapsed": true
   },
   "outputs": [],
   "source": [
    "final_trainX = np.asarray(tokens_normalised)\n",
    "final_trainY = np.asarray(labels)\n",
    "final_testX = np.asarray(tokens_normalised1)"
   ]
  },
  {
   "cell_type": "code",
   "execution_count": 89,
   "metadata": {
    "collapsed": true
   },
   "outputs": [],
   "source": [
    "modelfinal = gs_clf.fit(final_trainX, final_trainY)"
   ]
  },
  {
   "cell_type": "code",
   "execution_count": 90,
   "metadata": {},
   "outputs": [
    {
     "data": {
      "text/plain": [
       "{'clf__alpha': 0.001,\n",
       " 'clf__fit_prior': False,\n",
       " 'tfidf__norm': 'l1',\n",
       " 'tfidf__sublinear_tf': True,\n",
       " 'tfidf__use_idf': True,\n",
       " 'vect__ngram_range': (1, 3)}"
      ]
     },
     "execution_count": 90,
     "metadata": {},
     "output_type": "execute_result"
    }
   ],
   "source": [
    "modelfinal.best_params_"
   ]
  },
  {
   "cell_type": "code",
   "execution_count": 91,
   "metadata": {
    "collapsed": true
   },
   "outputs": [],
   "source": [
    "predictedfinal = model.predict(final_testX)"
   ]
  },
  {
   "cell_type": "code",
   "execution_count": 95,
   "metadata": {
    "collapsed": true
   },
   "outputs": [],
   "source": [
    "results =  predictedfinal"
   ]
  },
  {
   "cell_type": "code",
   "execution_count": 96,
   "metadata": {
    "collapsed": true
   },
   "outputs": [],
   "source": [
    "#convert labels to original strings\n",
    "results = ['FAKE' if x ==1 else 'REAL' for x in results]"
   ]
  },
  {
   "cell_type": "code",
   "execution_count": 98,
   "metadata": {},
   "outputs": [],
   "source": [
    "results_final = pd.DataFrame(results, columns=['labels'])"
   ]
  },
  {
   "cell_type": "code",
   "execution_count": 100,
   "metadata": {},
   "outputs": [],
   "source": [
    "dataframefinal = pd.concat([testing_set, results_final], axis=1)"
   ]
  },
  {
   "cell_type": "code",
   "execution_count": 102,
   "metadata": {},
   "outputs": [],
   "source": [
    "dataframefinal = dataframefinal.drop(\"title\", axis = 1)\n",
    "dataframefinal = dataframefinal.drop(\"text\", axis = 1)"
   ]
  },
  {
   "cell_type": "code",
   "execution_count": 104,
   "metadata": {
    "collapsed": true
   },
   "outputs": [],
   "source": [
    "dataframefinal.to_csv('predictions.csv', index = False)"
   ]
  },
  {
   "cell_type": "markdown",
   "metadata": {},
   "source": [
    "# Conclusion\n",
    "\n",
    "In this notebook, we built a predictor to classify fake news. The dataset containsed3999 observations which have been preprocessed and fed into different algorithms. The best result we obtained was 0.9383 using Naive Bayes and k=5 cross-validation. Final predictions have been derived from the test dataset from the Naive Bayes Classifier which has been trained on the entire dataset. Our final submission can be found in the folder as \"predictions.csv\" file.\n",
    "\n",
    "Thank you for reading!"
   ]
  }
 ],
 "metadata": {
  "kernelspec": {
   "display_name": "Python 3",
   "language": "python",
   "name": "python3"
  },
  "language_info": {
   "codemirror_mode": {
    "name": "ipython",
    "version": 3
   },
   "file_extension": ".py",
   "mimetype": "text/x-python",
   "name": "python",
   "nbconvert_exporter": "python",
   "pygments_lexer": "ipython3",
   "version": "3.6.4"
  }
 },
 "nbformat": 4,
 "nbformat_minor": 2
}
